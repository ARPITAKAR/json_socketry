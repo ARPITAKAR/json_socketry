{
 "cells": [
  {
   "cell_type": "code",
   "execution_count": 7,
   "id": "b0290947",
   "metadata": {},
   "outputs": [],
   "source": [
    "from flask import Flask,jsonify\n",
    "#jsonify coverts dictionoary into jsn object"
   ]
  },
  {
   "cell_type": "code",
   "execution_count": 8,
   "id": "32eb6577",
   "metadata": {},
   "outputs": [
    {
     "name": "stdout",
     "output_type": "stream",
     "text": [
      " * Serving Flask app \"__main__\" (lazy loading)\n",
      " * Environment: production\n",
      "\u001b[31m   WARNING: This is a development server. Do not use it in a production deployment.\u001b[0m\n",
      "\u001b[2m   Use a production WSGI server instead.\u001b[0m\n",
      " * Debug mode: off\n"
     ]
    },
    {
     "name": "stderr",
     "output_type": "stream",
     "text": [
      " * Running on http://127.0.0.1:5009/ (Press CTRL+C to quit)\n"
     ]
    }
   ],
   "source": [
    "app=Flask(__name__)\n",
    "books_db=[{\n",
    "    'name':'secret',\n",
    "    'price':250\n",
    "    },\n",
    "    {\n",
    "     'name':'Deep work',\n",
    "    'price':347\n",
    "    }\n",
    "]\n",
    "# retrive all the books http:127.0.0.1:5009/books\n",
    "@app.route('/books')\n",
    "def get_all_books():\n",
    "    return jsonify({'books':books_db})\n",
    "app.run(port=5009)\n",
    "# retrive onl one book\n",
    "@app.route('/book<string:name>')\n",
    "def get_book(name):\n",
    "    for book in books_db:\n",
    "        if book['name']=='name':\n",
    "            return jsonify(book)\n",
    "    return jsonify({'message':'book not found'})\n",
    "        "
   ]
  },
  {
   "cell_type": "code",
   "execution_count": null,
   "id": "5e16a9e8",
   "metadata": {},
   "outputs": [],
   "source": []
  },
  {
   "cell_type": "code",
   "execution_count": null,
   "id": "14292c48",
   "metadata": {},
   "outputs": [],
   "source": []
  },
  {
   "cell_type": "code",
   "execution_count": null,
   "id": "74b7e2de",
   "metadata": {},
   "outputs": [],
   "source": []
  }
 ],
 "metadata": {
  "kernelspec": {
   "display_name": "Python 3 (ipykernel)",
   "language": "python",
   "name": "python3"
  },
  "language_info": {
   "codemirror_mode": {
    "name": "ipython",
    "version": 3
   },
   "file_extension": ".py",
   "mimetype": "text/x-python",
   "name": "python",
   "nbconvert_exporter": "python",
   "pygments_lexer": "ipython3",
   "version": "3.9.13"
  }
 },
 "nbformat": 4,
 "nbformat_minor": 5
}
